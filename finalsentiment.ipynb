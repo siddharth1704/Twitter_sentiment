{
  "nbformat": 4,
  "nbformat_minor": 0,
  "metadata": {
    "colab": {
      "name": "finalsentiment.ipynb",
      "provenance": [],
      "authorship_tag": "ABX9TyProsKSeoRTiDX59XensOVe",
      "include_colab_link": true
    },
    "kernelspec": {
      "name": "python3",
      "display_name": "Python 3"
    }
  },
  "cells": [
    {
      "cell_type": "markdown",
      "metadata": {
        "id": "view-in-github",
        "colab_type": "text"
      },
      "source": [
        "<a href=\"https://colab.research.google.com/github/siddharth1704/Twitter_sentiment/blob/main/finalsentiment.ipynb\" target=\"_parent\"><img src=\"https://colab.research.google.com/assets/colab-badge.svg\" alt=\"Open In Colab\"/></a>"
      ]
    },
    {
      "cell_type": "code",
      "metadata": {
        "id": "6G6x-mZobjvC"
      },
      "source": [
        "import pandas as pd\n",
        "import os"
      ],
      "execution_count": 1,
      "outputs": []
    },
    {
      "cell_type": "code",
      "metadata": {
        "id": "uCRrUX-sbsQ7"
      },
      "source": [
        "import numpy as np\n",
        "from numpy import array"
      ],
      "execution_count": 5,
      "outputs": []
    },
    {
      "cell_type": "code",
      "metadata": {
        "id": "gMpNU69lb1Wb",
        "outputId": "556feb16-cb50-473d-800d-4aaf07d23df2",
        "colab": {
          "resources": {
            "http://localhost:8080/nbextensions/google.colab/files.js": {
              "data": "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",
              "ok": true,
              "headers": [
                [
                  "content-type",
                  "application/javascript"
                ]
              ],
              "status": 200,
              "status_text": ""
            }
          },
          "base_uri": "https://localhost:8080/",
          "height": 74
        }
      },
      "source": [
        "from google.colab import files \n",
        "  \n",
        "  \n",
        "uploaded = files.upload()"
      ],
      "execution_count": 43,
      "outputs": [
        {
          "output_type": "display_data",
          "data": {
            "text/html": [
              "\n",
              "     <input type=\"file\" id=\"files-c6cd098d-0ca5-437b-afc2-ee62bee4406c\" name=\"files[]\" multiple disabled\n",
              "        style=\"border:none\" />\n",
              "     <output id=\"result-c6cd098d-0ca5-437b-afc2-ee62bee4406c\">\n",
              "      Upload widget is only available when the cell has been executed in the\n",
              "      current browser session. Please rerun this cell to enable.\n",
              "      </output>\n",
              "      <script src=\"/nbextensions/google.colab/files.js\"></script> "
            ],
            "text/plain": [
              "<IPython.core.display.HTML object>"
            ]
          },
          "metadata": {
            "tags": []
          }
        },
        {
          "output_type": "stream",
          "text": [
            "Saving file2.csv to file2 (1).csv\n"
          ],
          "name": "stdout"
        }
      ]
    },
    {
      "cell_type": "code",
      "metadata": {
        "id": "7Lt0zPqGdnjx",
        "outputId": "a759ccc5-d1d4-4293-edb6-42bb085bd5fd",
        "colab": {
          "base_uri": "https://localhost:8080/",
          "height": 263
        }
      },
      "source": [
        "\n",
        "import pandas as pd \n",
        "import io \n",
        "  \n",
        "df = pd.read_csv(io.BytesIO(uploaded['file2.csv'])) \n",
        "print(df)\n"
      ],
      "execution_count": 44,
      "outputs": [
        {
          "output_type": "stream",
          "text": [
            "     Unnamed: 0                                             Tweets  sentiment\n",
            "0             0  RT @AlistairHaimes: Of the whole omnishambles,...          1\n",
            "1             1  RT @SteveBakerHW: The case for a new coronavir...          0\n",
            "2             2  RT @atrupar: \"If we tested half, cases would b...          1\n",
            "3             3  @Jim_Jordan Wear a mask! 224,000+ American sou...          0\n",
            "4             4  RT @BNODesk: The El Paso-Juárez area on the U....          0\n",
            "..          ...                                                ...        ...\n",
            "194         194  RT @DonaldJTrumpJr: Muslim Group Says Cuomo Is...          0\n",
            "195         195  RT @HKLiberty_Team: #HKSARG relaxes max partic...          1\n",
            "196         196  RT @AmyMcGrathKY: Sen. McConnell blocked $1,20...          1\n",
            "197         197  RT @SteveBakerHW: The case for a new coronavir...          1\n",
            "198         198  RT @nytimes: More than 75,000 coronavirus case...          1\n",
            "\n",
            "[199 rows x 3 columns]\n"
          ],
          "name": "stdout"
        }
      ]
    },
    {
      "cell_type": "code",
      "metadata": {
        "id": "M6GNPaCBgC5e"
      },
      "source": [
        "import re\n",
        "#cleaning the data\n",
        "def cleanTxt(text):\n",
        "    text=re.sub(r'@[A-Za-z0-9,.'']+','',text) #remove @mentions\n",
        "    text=re.sub(r'#','',text) #Removing the # symbol\n",
        "    text=re.sub(r'https?:\\/\\/\\S+','',text)#remove hyperlink\n",
        "    text=re.sub(r'RT[\\s]+','',text)#removing RT\n",
        "    \n",
        "    return text\n",
        "#cleaning the new data\n",
        "df['Tweets']=df['Tweets'].apply(cleanTxt)"
      ],
      "execution_count": 27,
      "outputs": []
    },
    {
      "cell_type": "code",
      "metadata": {
        "id": "CciuOnHldzgd"
      },
      "source": [
        "\n",
        "import spacy\n",
        "nlp = spacy.load('en_core_web_sm')\n",
        "from spacy.lang.en.stop_words import STOP_WORDS\n",
        "import string\n"
      ],
      "execution_count": 28,
      "outputs": []
    },
    {
      "cell_type": "code",
      "metadata": {
        "id": "K52aXt7Ud6lg"
      },
      "source": [
        "stop_words = list(STOP_WORDS)\n",
        "pun = string.punctuation"
      ],
      "execution_count": 29,
      "outputs": []
    },
    {
      "cell_type": "code",
      "metadata": {
        "id": "rA9tzxn4eBdA"
      },
      "source": [
        "#removing the stopwords\n",
        "def data_cleaning(sentence):\n",
        "    doc = nlp(sentence)\n",
        "    \n",
        "    tokens = []\n",
        "    for token in doc:\n",
        "        if token.lemma_ != \"-PRON-\":\n",
        "            temp = token.lemma_.lower().strip()\n",
        "        else:\n",
        "            temp = token.lower_\n",
        "        tokens.append(temp)\n",
        "        \n",
        "    clean_tokens = []\n",
        "    for token in tokens:\n",
        "        if token not in stop_words and token not in pun:\n",
        "            clean_tokens.append(token)\n",
        "    return clean_tokens\n",
        "# Function to convert \n",
        "def listToString(s): \n",
        "    # initialize an empty string \n",
        "    str1 = \" \"        # return string \n",
        "    return (str1.join(s))"
      ],
      "execution_count": 30,
      "outputs": []
    },
    {
      "cell_type": "code",
      "metadata": {
        "id": "o-AsZ_NmgAgD"
      },
      "source": [
        ""
      ],
      "execution_count": null,
      "outputs": []
    },
    {
      "cell_type": "code",
      "metadata": {
        "id": "saJ1fboCeJV1"
      },
      "source": [
        "ctweets = []\n",
        "tweets = list(df['Tweets'])\n",
        "for Tweet in tweets:\n",
        "    ctweets.append(listToString(data_cleaning(Tweet)))"
      ],
      "execution_count": 31,
      "outputs": []
    },
    {
      "cell_type": "code",
      "metadata": {
        "id": "jOHpcEc0fFxr",
        "outputId": "60e4be76-a9cd-482b-f67c-357c6417105d",
        "colab": {
          "base_uri": "https://localhost:8080/",
          "height": 35
        }
      },
      "source": [
        "ctweets[3]"
      ],
      "execution_count": 32,
      "outputs": [
        {
          "output_type": "execute_result",
          "data": {
            "application/vnd.google.colaboratory.intrinsic+json": {
              "type": "string"
            },
            "text/plain": [
              "'jordan wear mask 224,000 american soul lose covid19 true patriot wear mask th …'"
            ]
          },
          "metadata": {
            "tags": []
          },
          "execution_count": 32
        }
      ]
    },
    {
      "cell_type": "code",
      "metadata": {
        "id": "Uxg5bv76fRUt"
      },
      "source": [
        "sentiments = df['sentiment']\n",
        "\n",
        "from numpy import array\n",
        "sentiments = np.array(list(sentiments))"
      ],
      "execution_count": 36,
      "outputs": []
    },
    {
      "cell_type": "code",
      "metadata": {
        "id": "QLwzzMdth3KV"
      },
      "source": [
        "from keras.preprocessing.text import one_hot\n",
        "from keras.preprocessing.sequence import pad_sequences\n",
        "from keras.models import Sequential\n",
        "from keras.layers.core import Activation, Dropout, Dense\n",
        "from keras.layers import Flatten\n",
        "from keras.layers.embeddings import Embedding\n",
        "from sklearn.model_selection import train_test_split\n",
        "from keras.preprocessing.text import Tokenizer\n",
        "ctweets_train, ctweets_test, sentiments_train, sentiments_test = train_test_split(ctweets, sentiments, test_size = 0.20, random_state = 42)"
      ],
      "execution_count": 38,
      "outputs": []
    },
    {
      "cell_type": "code",
      "metadata": {
        "id": "st_aXiYCiWH6"
      },
      "source": [
        "\n",
        "tokenizer = Tokenizer(num_words = 5000)\n",
        "tokenizer.fit_on_texts(ctweets_train)\n",
        "\n",
        "ctweets_train = tokenizer.texts_to_sequences(ctweets_train)\n",
        "ctweets_test = tokenizer.texts_to_sequences(ctweets_test)"
      ],
      "execution_count": 39,
      "outputs": []
    },
    {
      "cell_type": "code",
      "metadata": {
        "id": "RL3dM2Yoiq3H"
      },
      "source": [
        "\n",
        "vocab_size = len(tokenizer.word_index) + 1\n",
        "\n",
        "maxlen = 100\n",
        "\n",
        "ctweets_train = pad_sequences(ctweets_train, padding='post', maxlen = maxlen)\n",
        "ctweets_test = pad_sequences(ctweets_test, padding='post', maxlen = maxlen)\n"
      ],
      "execution_count": 40,
      "outputs": []
    },
    {
      "cell_type": "code",
      "metadata": {
        "id": "SF69F0zbpuM6",
        "outputId": "eb5ccc41-56cd-480a-d13d-250c91e9f117",
        "colab": {
          "base_uri": "https://localhost:8080/",
          "height": 369
        }
      },
      "source": [
        "!wget http://nlp.stanford.edu/data/glove.6B.zip"
      ],
      "execution_count": 45,
      "outputs": [
        {
          "output_type": "stream",
          "text": [
            "--2020-10-28 10:00:36--  http://nlp.stanford.edu/data/glove.6B.zip\n",
            "Resolving nlp.stanford.edu (nlp.stanford.edu)... 171.64.67.140\n",
            "Connecting to nlp.stanford.edu (nlp.stanford.edu)|171.64.67.140|:80... connected.\n",
            "HTTP request sent, awaiting response... 302 Found\n",
            "Location: https://nlp.stanford.edu/data/glove.6B.zip [following]\n",
            "--2020-10-28 10:00:37--  https://nlp.stanford.edu/data/glove.6B.zip\n",
            "Connecting to nlp.stanford.edu (nlp.stanford.edu)|171.64.67.140|:443... connected.\n",
            "HTTP request sent, awaiting response... 301 Moved Permanently\n",
            "Location: http://downloads.cs.stanford.edu/nlp/data/glove.6B.zip [following]\n",
            "--2020-10-28 10:00:37--  http://downloads.cs.stanford.edu/nlp/data/glove.6B.zip\n",
            "Resolving downloads.cs.stanford.edu (downloads.cs.stanford.edu)... 171.64.64.22\n",
            "Connecting to downloads.cs.stanford.edu (downloads.cs.stanford.edu)|171.64.64.22|:80... connected.\n",
            "HTTP request sent, awaiting response... 200 OK\n",
            "Length: 862182613 (822M) [application/zip]\n",
            "Saving to: ‘glove.6B.zip’\n",
            "\n",
            "glove.6B.zip        100%[===================>] 822.24M  2.17MB/s    in 6m 28s  \n",
            "\n",
            "2020-10-28 10:07:05 (2.12 MB/s) - ‘glove.6B.zip’ saved [862182613/862182613]\n",
            "\n"
          ],
          "name": "stdout"
        }
      ]
    },
    {
      "cell_type": "code",
      "metadata": {
        "id": "mNdFtlOSsFdn",
        "outputId": "3850a8de-ee6e-4ef0-a5bd-0bcbe1f52854",
        "colab": {
          "base_uri": "https://localhost:8080/",
          "height": 105
        }
      },
      "source": [
        "!unzip glove*.zip"
      ],
      "execution_count": 46,
      "outputs": [
        {
          "output_type": "stream",
          "text": [
            "Archive:  glove.6B.zip\n",
            "  inflating: glove.6B.50d.txt        \n",
            "  inflating: glove.6B.100d.txt       \n",
            "  inflating: glove.6B.200d.txt       \n",
            "  inflating: glove.6B.300d.txt       \n"
          ],
          "name": "stdout"
        }
      ]
    },
    {
      "cell_type": "code",
      "metadata": {
        "id": "Bu7zcxWasNor",
        "outputId": "7977aeff-dae0-4c25-fd98-d863dd61d668",
        "colab": {
          "base_uri": "https://localhost:8080/",
          "height": 70
        }
      },
      "source": [
        "!ls\n",
        "!pwd"
      ],
      "execution_count": 47,
      "outputs": [
        {
          "output_type": "stream",
          "text": [
            "'file2 (1).csv'   glove.6B.100d.txt   glove.6B.300d.txt   glove.6B.zip\n",
            " file2.csv\t  glove.6B.200d.txt   glove.6B.50d.txt\t  sample_data\n",
            "/content\n"
          ],
          "name": "stdout"
        }
      ]
    },
    {
      "cell_type": "code",
      "metadata": {
        "id": "_UbG-WcNizam"
      },
      "source": [
        "from numpy import array\n",
        "from numpy import asarray\n",
        "from numpy import zeros\n",
        "\n",
        "embeddings_dict = dict()\n",
        "glove = open('glove.6B.100d.txt', encoding=\"utf8\")\n",
        "\n",
        "for line in glove:\n",
        "    records = line.split()\n",
        "    word = records[0]\n",
        "    vector_dimensions = asarray(records[1:],dtype = 'float32')\n",
        "    embeddings_dict [word] = vector_dimensions\n",
        "glove.close()"
      ],
      "execution_count": 48,
      "outputs": []
    },
    {
      "cell_type": "code",
      "metadata": {
        "id": "6HQb2048sa3h"
      },
      "source": [
        "embedding_matrix = zeros((vocab_size,100))\n",
        "for word, index in tokenizer.word_index.items():\n",
        "    embedding_vector = embeddings_dict.get(word)\n",
        "    if embedding_vector is not None:\n",
        "        embedding_matrix[index] = embedding_vector"
      ],
      "execution_count": 49,
      "outputs": []
    },
    {
      "cell_type": "code",
      "metadata": {
        "id": "bLGeoSdHsq8Z"
      },
      "source": [
        "\n",
        "model = Sequential()\n",
        "embedding_layer = Embedding(vocab_size, 100, weights = [embedding_matrix], input_length = maxlen, trainable = False)\n",
        "model.add(embedding_layer)\n",
        "\n",
        "model.add(Flatten())\n",
        "model.add(Dense(1, activation = 'sigmoid'))"
      ],
      "execution_count": 50,
      "outputs": []
    },
    {
      "cell_type": "code",
      "metadata": {
        "id": "ZD_kVgESssrD",
        "outputId": "d562186a-a47f-4d73-d9c0-8fa89050a0a9",
        "colab": {
          "base_uri": "https://localhost:8080/",
          "height": 281
        }
      },
      "source": [
        "\n",
        "model.compile(optimizer = 'adam', loss = 'binary_crossentropy', metrics=['acc'])\n",
        "print(model.summary())"
      ],
      "execution_count": 51,
      "outputs": [
        {
          "output_type": "stream",
          "text": [
            "Model: \"sequential\"\n",
            "_________________________________________________________________\n",
            "Layer (type)                 Output Shape              Param #   \n",
            "=================================================================\n",
            "embedding (Embedding)        (None, 100, 100)          67800     \n",
            "_________________________________________________________________\n",
            "flatten (Flatten)            (None, 10000)             0         \n",
            "_________________________________________________________________\n",
            "dense (Dense)                (None, 1)                 10001     \n",
            "=================================================================\n",
            "Total params: 77,801\n",
            "Trainable params: 10,001\n",
            "Non-trainable params: 67,800\n",
            "_________________________________________________________________\n",
            "None\n"
          ],
          "name": "stdout"
        }
      ]
    },
    {
      "cell_type": "code",
      "metadata": {
        "id": "VIitI39Rszhe",
        "outputId": "4dff785f-b5b3-4f98-8975-4bcca40e3566",
        "colab": {
          "base_uri": "https://localhost:8080/",
          "height": 1000
        }
      },
      "source": [
        "history = model.fit(ctweets_train, sentiments_train, batch_size = 180, epochs = 40, verbose = 1, validation_split = 0.2)"
      ],
      "execution_count": 55,
      "outputs": [
        {
          "output_type": "stream",
          "text": [
            "Epoch 1/40\n",
            "1/1 [==============================] - 0s 47ms/step - loss: 0.1753 - acc: 0.9843 - val_loss: 0.5419 - val_acc: 0.7188\n",
            "Epoch 2/40\n",
            "1/1 [==============================] - 0s 18ms/step - loss: 0.1707 - acc: 0.9843 - val_loss: 0.5425 - val_acc: 0.7188\n",
            "Epoch 3/40\n",
            "1/1 [==============================] - 0s 18ms/step - loss: 0.1663 - acc: 0.9843 - val_loss: 0.5433 - val_acc: 0.7188\n",
            "Epoch 4/40\n",
            "1/1 [==============================] - 0s 18ms/step - loss: 0.1622 - acc: 0.9843 - val_loss: 0.5440 - val_acc: 0.7188\n",
            "Epoch 5/40\n",
            "1/1 [==============================] - 0s 17ms/step - loss: 0.1582 - acc: 0.9843 - val_loss: 0.5449 - val_acc: 0.7188\n",
            "Epoch 6/40\n",
            "1/1 [==============================] - 0s 17ms/step - loss: 0.1545 - acc: 0.9843 - val_loss: 0.5459 - val_acc: 0.7188\n",
            "Epoch 7/40\n",
            "1/1 [==============================] - 0s 17ms/step - loss: 0.1509 - acc: 0.9843 - val_loss: 0.5469 - val_acc: 0.7188\n",
            "Epoch 8/40\n",
            "1/1 [==============================] - 0s 16ms/step - loss: 0.1474 - acc: 0.9843 - val_loss: 0.5479 - val_acc: 0.7188\n",
            "Epoch 9/40\n",
            "1/1 [==============================] - 0s 17ms/step - loss: 0.1441 - acc: 0.9843 - val_loss: 0.5490 - val_acc: 0.7188\n",
            "Epoch 10/40\n",
            "1/1 [==============================] - 0s 17ms/step - loss: 0.1410 - acc: 0.9843 - val_loss: 0.5502 - val_acc: 0.7188\n",
            "Epoch 11/40\n",
            "1/1 [==============================] - 0s 18ms/step - loss: 0.1380 - acc: 0.9843 - val_loss: 0.5513 - val_acc: 0.7188\n",
            "Epoch 12/40\n",
            "1/1 [==============================] - 0s 17ms/step - loss: 0.1351 - acc: 0.9843 - val_loss: 0.5526 - val_acc: 0.7188\n",
            "Epoch 13/40\n",
            "1/1 [==============================] - 0s 17ms/step - loss: 0.1323 - acc: 0.9843 - val_loss: 0.5538 - val_acc: 0.7188\n",
            "Epoch 14/40\n",
            "1/1 [==============================] - 0s 17ms/step - loss: 0.1297 - acc: 0.9843 - val_loss: 0.5550 - val_acc: 0.7188\n",
            "Epoch 15/40\n",
            "1/1 [==============================] - 0s 19ms/step - loss: 0.1271 - acc: 0.9843 - val_loss: 0.5563 - val_acc: 0.7188\n",
            "Epoch 16/40\n",
            "1/1 [==============================] - 0s 25ms/step - loss: 0.1247 - acc: 0.9843 - val_loss: 0.5575 - val_acc: 0.7188\n",
            "Epoch 17/40\n",
            "1/1 [==============================] - 0s 19ms/step - loss: 0.1223 - acc: 0.9843 - val_loss: 0.5588 - val_acc: 0.7188\n",
            "Epoch 18/40\n",
            "1/1 [==============================] - 0s 17ms/step - loss: 0.1201 - acc: 0.9843 - val_loss: 0.5601 - val_acc: 0.7188\n",
            "Epoch 19/40\n",
            "1/1 [==============================] - 0s 23ms/step - loss: 0.1179 - acc: 0.9843 - val_loss: 0.5614 - val_acc: 0.7188\n",
            "Epoch 20/40\n",
            "1/1 [==============================] - 0s 17ms/step - loss: 0.1159 - acc: 0.9843 - val_loss: 0.5626 - val_acc: 0.7188\n",
            "Epoch 21/40\n",
            "1/1 [==============================] - 0s 18ms/step - loss: 0.1139 - acc: 0.9843 - val_loss: 0.5639 - val_acc: 0.7188\n",
            "Epoch 22/40\n",
            "1/1 [==============================] - 0s 17ms/step - loss: 0.1119 - acc: 0.9843 - val_loss: 0.5652 - val_acc: 0.7188\n",
            "Epoch 23/40\n",
            "1/1 [==============================] - 0s 18ms/step - loss: 0.1101 - acc: 0.9843 - val_loss: 0.5665 - val_acc: 0.7188\n",
            "Epoch 24/40\n",
            "1/1 [==============================] - 0s 17ms/step - loss: 0.1083 - acc: 0.9843 - val_loss: 0.5678 - val_acc: 0.7188\n",
            "Epoch 25/40\n",
            "1/1 [==============================] - 0s 20ms/step - loss: 0.1066 - acc: 0.9843 - val_loss: 0.5691 - val_acc: 0.7188\n",
            "Epoch 26/40\n",
            "1/1 [==============================] - 0s 17ms/step - loss: 0.1049 - acc: 0.9843 - val_loss: 0.5704 - val_acc: 0.7188\n",
            "Epoch 27/40\n",
            "1/1 [==============================] - 0s 17ms/step - loss: 0.1033 - acc: 0.9843 - val_loss: 0.5718 - val_acc: 0.7188\n",
            "Epoch 28/40\n",
            "1/1 [==============================] - 0s 17ms/step - loss: 0.1018 - acc: 0.9843 - val_loss: 0.5732 - val_acc: 0.7188\n",
            "Epoch 29/40\n",
            "1/1 [==============================] - 0s 18ms/step - loss: 0.1003 - acc: 0.9843 - val_loss: 0.5745 - val_acc: 0.7188\n",
            "Epoch 30/40\n",
            "1/1 [==============================] - 0s 18ms/step - loss: 0.0989 - acc: 0.9843 - val_loss: 0.5759 - val_acc: 0.7188\n",
            "Epoch 31/40\n",
            "1/1 [==============================] - 0s 17ms/step - loss: 0.0975 - acc: 0.9843 - val_loss: 0.5773 - val_acc: 0.7188\n",
            "Epoch 32/40\n",
            "1/1 [==============================] - 0s 17ms/step - loss: 0.0961 - acc: 0.9843 - val_loss: 0.5787 - val_acc: 0.7188\n",
            "Epoch 33/40\n",
            "1/1 [==============================] - 0s 18ms/step - loss: 0.0948 - acc: 0.9843 - val_loss: 0.5801 - val_acc: 0.7188\n",
            "Epoch 34/40\n",
            "1/1 [==============================] - 0s 19ms/step - loss: 0.0935 - acc: 0.9843 - val_loss: 0.5815 - val_acc: 0.7188\n",
            "Epoch 35/40\n",
            "1/1 [==============================] - 0s 17ms/step - loss: 0.0923 - acc: 0.9843 - val_loss: 0.5830 - val_acc: 0.7188\n",
            "Epoch 36/40\n",
            "1/1 [==============================] - 0s 19ms/step - loss: 0.0911 - acc: 0.9843 - val_loss: 0.5844 - val_acc: 0.7188\n",
            "Epoch 37/40\n",
            "1/1 [==============================] - 0s 18ms/step - loss: 0.0900 - acc: 0.9843 - val_loss: 0.5858 - val_acc: 0.7188\n",
            "Epoch 38/40\n",
            "1/1 [==============================] - 0s 20ms/step - loss: 0.0889 - acc: 0.9843 - val_loss: 0.5872 - val_acc: 0.7188\n",
            "Epoch 39/40\n",
            "1/1 [==============================] - 0s 18ms/step - loss: 0.0878 - acc: 0.9843 - val_loss: 0.5886 - val_acc: 0.7188\n",
            "Epoch 40/40\n",
            "1/1 [==============================] - 0s 19ms/step - loss: 0.0867 - acc: 0.9843 - val_loss: 0.5900 - val_acc: 0.7188\n"
          ],
          "name": "stdout"
        }
      ]
    },
    {
      "cell_type": "code",
      "metadata": {
        "id": "lAEKOORruu4n",
        "outputId": "e430fbc1-9cc0-4e14-c068-28ec396fbec6",
        "colab": {
          "base_uri": "https://localhost:8080/",
          "height": 34
        }
      },
      "source": [
        "score  = model.evaluate(ctweets_test, sentiments_test, verbose = 1)"
      ],
      "execution_count": 58,
      "outputs": [
        {
          "output_type": "stream",
          "text": [
            "2/2 [==============================] - 0s 2ms/step - loss: 0.4633 - acc: 0.7500\n"
          ],
          "name": "stdout"
        }
      ]
    }
  ]
}